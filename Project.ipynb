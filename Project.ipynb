{
 "cells": [
  {
   "cell_type": "code",
   "execution_count": 1,
   "id": "0d587967-375e-4f9e-a774-ca465350f8f0",
   "metadata": {},
   "outputs": [],
   "source": [
    "import pandas as pd\n",
    "import numpy as np\n",
    "import matplotlib.pyplot as plt\n",
    "import seaborn as sns\n",
    "import scipy.stats as stat"
   ]
  },
  {
   "cell_type": "markdown",
   "id": "31f4383d-a87c-4779-8494-832c7b324367",
   "metadata": {},
   "source": [
    "*Exercise 1:*\n",
    "1. Load data as a vector x = (x1, . . . , xn) of nuclear accident costs before the Three Mile Island accident and remove all missing values. You must get n = 55 observations."
   ]
  },
  {
   "cell_type": "code",
   "execution_count": 2,
   "id": "83bbe984-6101-453b-9548-50f9fee2d581",
   "metadata": {},
   "outputs": [
    {
     "name": "stdout",
     "output_type": "stream",
     "text": [
      "(55, 8)\n"
     ]
    },
    {
     "data": {
      "text/html": [
       "<div>\n",
       "<style scoped>\n",
       "    .dataframe tbody tr th:only-of-type {\n",
       "        vertical-align: middle;\n",
       "    }\n",
       "\n",
       "    .dataframe tbody tr th {\n",
       "        vertical-align: top;\n",
       "    }\n",
       "\n",
       "    .dataframe thead th {\n",
       "        text-align: right;\n",
       "    }\n",
       "</style>\n",
       "<table border=\"1\" class=\"dataframe\">\n",
       "  <thead>\n",
       "    <tr style=\"text-align: right;\">\n",
       "      <th></th>\n",
       "      <th>Date</th>\n",
       "      <th>Location</th>\n",
       "      <th>Cost (millions 2013US$)</th>\n",
       "      <th>INES</th>\n",
       "      <th>Smyth Magnitude</th>\n",
       "      <th>Region</th>\n",
       "      <th>Description</th>\n",
       "      <th>Fatalities</th>\n",
       "    </tr>\n",
       "  </thead>\n",
       "  <tbody>\n",
       "    <tr>\n",
       "      <th>4</th>\n",
       "      <td>1957-09-11</td>\n",
       "      <td>Rocky Flats, USA</td>\n",
       "      <td>8189.0</td>\n",
       "      <td>5.0</td>\n",
       "      <td>5.2</td>\n",
       "      <td>NaN</td>\n",
       "      <td>Fire starts and destroys plutonium processing ...</td>\n",
       "      <td>0</td>\n",
       "    </tr>\n",
       "    <tr>\n",
       "      <th>5</th>\n",
       "      <td>1955-03-25</td>\n",
       "      <td>Sellafield, UK</td>\n",
       "      <td>4400.0</td>\n",
       "      <td>4.0</td>\n",
       "      <td>4.3</td>\n",
       "      <td>WE</td>\n",
       "      <td>Fire releases up to up to a few tenths of a te...</td>\n",
       "      <td>0</td>\n",
       "    </tr>\n",
       "    <tr>\n",
       "      <th>6</th>\n",
       "      <td>1977-01-01</td>\n",
       "      <td>Beloyarsk, USSR</td>\n",
       "      <td>3500.0</td>\n",
       "      <td>5.0</td>\n",
       "      <td>NaN</td>\n",
       "      <td>EE</td>\n",
       "      <td>Unit 2 suffers a half core meltdown, repairs t...</td>\n",
       "      <td>0</td>\n",
       "    </tr>\n",
       "    <tr>\n",
       "      <th>7</th>\n",
       "      <td>1955-07-14</td>\n",
       "      <td>Sellafield, UK</td>\n",
       "      <td>2900.0</td>\n",
       "      <td>3.0</td>\n",
       "      <td>-2.4</td>\n",
       "      <td>WE</td>\n",
       "      <td>Another radioactive leak and remediation opera...</td>\n",
       "      <td>0</td>\n",
       "    </tr>\n",
       "    <tr>\n",
       "      <th>8</th>\n",
       "      <td>1969-10-12</td>\n",
       "      <td>Sellafield, UK</td>\n",
       "      <td>2500.0</td>\n",
       "      <td>4.0</td>\n",
       "      <td>2.3</td>\n",
       "      <td>WE</td>\n",
       "      <td>Enhanced discharge from the Building B204 stac...</td>\n",
       "      <td>0</td>\n",
       "    </tr>\n",
       "  </tbody>\n",
       "</table>\n",
       "</div>"
      ],
      "text/plain": [
       "        Date          Location  Cost (millions 2013US$)  INES  \\\n",
       "4 1957-09-11  Rocky Flats, USA                   8189.0   5.0   \n",
       "5 1955-03-25    Sellafield, UK                   4400.0   4.0   \n",
       "6 1977-01-01   Beloyarsk, USSR                   3500.0   5.0   \n",
       "7 1955-07-14    Sellafield, UK                   2900.0   3.0   \n",
       "8 1969-10-12    Sellafield, UK                   2500.0   4.0   \n",
       "\n",
       "   Smyth Magnitude Region                                        Description  \\\n",
       "4              5.2    NaN  Fire starts and destroys plutonium processing ...   \n",
       "5              4.3     WE  Fire releases up to up to a few tenths of a te...   \n",
       "6              NaN     EE  Unit 2 suffers a half core meltdown, repairs t...   \n",
       "7             -2.4     WE  Another radioactive leak and remediation opera...   \n",
       "8              2.3     WE  Enhanced discharge from the Building B204 stac...   \n",
       "\n",
       "   Fatalities  \n",
       "4           0  \n",
       "5           0  \n",
       "6           0  \n",
       "7           0  \n",
       "8           0  "
      ]
     },
     "execution_count": 2,
     "metadata": {},
     "output_type": "execute_result"
    }
   ],
   "source": [
    "data = pd.read_csv('data/C_id_35_NuclearPowerAccidents2016.csv', sep=',') #Get data\n",
    "data[\"Date\"] = pd.to_datetime(data[\"Date\"])\n",
    "data = data[data.Date<'1979-03-28']  #Get data before Three Mile Island accident\n",
    "data = data.loc[data['Cost (millions 2013US$)'].notnull()] #Remove null values\n",
    "print(data.shape)\n",
    "data.head()"
   ]
  },
  {
   "cell_type": "markdown",
   "id": "b15e21bb",
   "metadata": {},
   "source": [
    "2. Let F <sub>θ </sub> be the cumulative distribution function of a Gaussian distribution with mean µ\n",
    "and variance σ<sup>2</sup> , with θ = (µ, σ<sup>2</sup> ).\n",
    "\n",
    "(a) Show that the quantile function F<sub>θ</sub><sup>-1</sup> satisfies:\n",
    "$$\\forall p \\in (0,1), F_θ^{-1}(p) = σF_{(0,1)}^{-1}(p) + µ$$\n",
    "\n",
    "The quantile function is the inverse of the cumulative distribution function, so we will need the CDF of a normal distribution, given by:\n",
    "\n",
    "$$F_θ(x) = \\frac{1}{2} + [1 + erf(\\frac{(x - µ)}{σ \\sqrt(2)})]$$\n",
    "\n",
    "\n",
    "Calculating the inverse of the CDF (Quantile), step by step, we get:\n",
    "\n",
    "$$F_θ^{-1}(p) = \\frac{1}{2} + [1 + erf(\\frac{(x - µ)}{σ \\sqrt(2)})]$$\n",
    "\n",
    "\n",
    "\n",
    "\n",
    "\n",
    "(b) Show the Q–Q plot of data for the Gaussian model using the probplot function of\n",
    "SciPy.\n"
   ]
  },
  {
   "cell_type": "markdown",
   "id": "3364730d",
   "metadata": {},
   "source": [
    "Where erf is the error function, given by:\n",
    "\n",
    "$$erf(x) = \\frac{2}{\\sqrt{\\pi}} \\int_{0}^{x} e^{-t^2}dt$$"
   ]
  },
  {
   "cell_type": "code",
   "execution_count": 3,
   "id": "6d96020c-6813-4f9b-b144-ea88498749c1",
   "metadata": {},
   "outputs": [
    {
     "data": {
      "image/png": "[encoded data removed]",
      "text/plain": [
       "<Figure size 576x432 with 1 Axes>"
      ]
     },
     "metadata": {
      "needs_background": "light"
     },
     "output_type": "display_data"
    }
   ],
   "source": [
    "y = data['Cost (millions 2013US$)']  #Target variable\n",
    "norm = stat.norm.fit(y) #Fit normal distribution to target variable\n",
    "plt.figure(figsize=(8,6)) \n",
    "stat.probplot(y, dist=\"norm\", plot=plt, sparams=norm) #Plot Q-Q plot of target variable against normal distribution\n",
    "plt.show()"
   ]
  },
  {
   "cell_type": "markdown",
   "id": "18c48c33",
   "metadata": {},
   "source": [
    "3. Let  F <sub>θ </sub> be the cumulative distribution function of an exponential distribution with pa-\n",
    "rameter θ > 0.\n",
    "\n",
    "(a) Show that the quantile function F<sub>θ</sub><sup>-1</sup> satisfies:\n",
    "\n",
    "$$\\forall p \\in (0,1), F_θ^{-1}(p) = \\frac{1}{θ} F_1^{-1}(p)$$\n",
    "\n",
    "\n",
    "(b) Show the Q–Q plot of data for the exponential model."
   ]
  },
  {
   "cell_type": "code",
   "execution_count": 7,
   "id": "0d024d8f",
   "metadata": {},
   "outputs": [
    {
     "data": {
      "image/png": "[encoded data removed]",
      "text/plain": [
       "<Figure size 576x432 with 1 Axes>"
      ]
     },
     "metadata": {
      "needs_background": "light"
     },
     "output_type": "display_data"
    }
   ],
   "source": [
    "exp = stat.expon.fit(y) #Fit exponential distribution to target variable\n",
    "plt.figure(figsize=(8,6)) \n",
    "stat.probplot(y, dist=\"expon\", plot=plt, sparams=exp) #Plot Q-Q plot of target variable against exp distribution\n",
    "plt.show()"
   ]
  },
  {
   "cell_type": "markdown",
   "id": "2357cf80",
   "metadata": {},
   "source": [
    "4. The Q-Q plot tries to determine from which distribution the data came from. The plot is a scatter plot of the quantiles of the data against the quantiles of the candidate distribution. If the data did come from the distribution, the points should lie on a straight line, 45 degrees from the origin.\n",
    "Therefore, analysing the two plots, we can see that the data is more likely to come from an exponential distribution than an normal distribution, since the plot of the exponential distribution is much closer to the 45 degree line than the plot of the normal distribution, which is more spread out."
   ]
  },
  {
   "cell_type": "markdown",
   "id": "7e4ffc30",
   "metadata": {},
   "source": [
    "In the following, we use the exponential model for the cost of accidents before the\n",
    "Three Mile Island accident. Specifically, we assume that accident costs are i.i.d. samples of\n",
    "an exponential distribution with parameter θ > 0. Let Θ = (0, +∞) be the set of parameters.\n",
    "We denote by X = (X1 , . . . , Xn ) a random vector of n i.i.d. samples.\n",
    "\n",
    "*Exercise 2 (Point estimation):*\n",
    "\n",
    "We first focus on the estimation of θ or some functions of θ."
   ]
  },
  {
   "cell_type": "markdown",
   "id": "58bcff8c",
   "metadata": {},
   "source": [
    "1. Give the maximum likelihood estimator θ̂ of θ.\n",
    "\n",
    "The PDF of an exponential distribution is given by: \n",
    "$$y = \\lambda e^{-\\lambda x}$$\n",
    "Therefore, the likelihood function is given by:\n",
    "$$L(\\lambda) = \\prod_{i=1}^{n} \\lambda e^{-\\lambda x_i} = \\lambda^n e^{-\\lambda \\sum_{i=1}^{n} x_i}$$\n",
    "Taking the log of the likelihood function, we get:\n",
    "$$\\log L(\\lambda) = n \\log \\lambda - \\lambda \\sum_{i=1}^{n} x_i$$\n",
    "Taking the derivative of the log likelihood function with respect to $\\lambda$, we get:\n",
    "$$\\frac{\\partial \\log L(\\lambda)}{\\partial \\lambda} = \\frac{n}{\\lambda} - \\sum_{i=1}^{n} x_i = 0$$\n",
    "Therefore, the MLE is given by:\n",
    "$$\\hat{\\lambda} = \\frac{n}{\\sum_{i=1}^{n} x_i}$$\n",
    "That is, the inverse of the avarage. Given by the following code:"
   ]
  },
  {
   "cell_type": "code",
   "execution_count": 22,
   "id": "16fe2008",
   "metadata": {},
   "outputs": [
    {
     "name": "stdout",
     "output_type": "stream",
     "text": [
      "MLE of lambda: 0.0013767725947156965\n"
     ]
    }
   ],
   "source": [
    "lam = 1/y.mean() #Get lambda for exponential distribution\n",
    "print (\"MLE of lambda: \" + str(lam))"
   ]
  },
  {
   "cell_type": "markdown",
   "id": "0a5d5e6a",
   "metadata": {},
   "source": [
    "2. Show on the same plot the histogram of data in density and the probability densityfunction of the exponential distribution with parameter θ̂(x)."
   ]
  },
  {
   "cell_type": "code",
   "execution_count": 89,
   "id": "fd16ff21",
   "metadata": {},
   "outputs": [
    {
     "data": {
      "image/png": "[encoded data removed]",
      "text/plain": [
       "<Figure size 720x432 with 1 Axes>"
      ]
     },
     "metadata": {
      "needs_background": "light"
     },
     "output_type": "display_data"
    }
   ],
   "source": [
    "import warnings\n",
    "from statsmodels.tools.sm_exceptions import ConvergenceWarning\n",
    "warnings.simplefilter('ignore', UserWarning)\n",
    "\n",
    "range_var = np.linspace(y.min(),y.max())\n",
    "plt.figure(figsize=(10,6))\n",
    "exp_y = lam* np.exp(-(lam*range_var)) #Get exponential distribution\n",
    "plt.plot(range_var,exp_y, color='black', label='Exponential Distribution', linewidth=2)\n",
    "\n",
    "#plot histogram and density of data\n",
    "sns.distplot(y, hist=True, kde=True,\n",
    "                bins=int(180/5), color = 'red',\n",
    "                hist_kws={'edgecolor':'black'},\n",
    "                kde_kws={'linewidth': 1.5}, label='Data')\n",
    "\n",
    "\n",
    "\n",
    "plt.title('Cost (millions 2013US$) distribution')\n",
    "plt.legend()\n",
    "plt.xlabel('Cost')\n",
    "plt.ylabel('distribution')\n",
    "#limit x axis from 0\n",
    "plt.xlim(-2000,6000)\n",
    "plt.show()\n"
   ]
  },
  {
   "cell_type": "markdown",
   "id": "6650df5d",
   "metadata": {},
   "source": [
    "3. We seek to estimate the expected cost:\n",
    "$$g(θ) = \\frac{1}{\\theta}$$\n",
    "Let:\n",
    "$$\\hat{g}(x) = \\frac{1}{n}\\sum\\limits_{i=1}^{n}X_i$$\n",
    "Show that ĝ is an efficient estimator of g(θ).\n"
   ]
  },
  {
   "cell_type": "markdown",
   "id": "4d83a425",
   "metadata": {},
   "source": [
    "Knowing that a unbiased estimator that reaches the Cramer-Rao lower bound is an efficient estimator, we can say that $\\hat{g}(x)$ is an efficient estimator if it reaches the Cramer-Rao lower bound. Since the Cramer-Rao lower bound is given by:\n",
    "$$Var_{\\theta}|S(x)|\\geq \\frac{g'(\\theta)^2}{I(\\theta)}$$\n",
    "To be unbiased, we need:\n",
    "$$E_{\\theta}|\\hat{g}(x)| = \\frac{1}{\\theta}$$\n",
    "Therefore, we get:\n",
    "$$E(\\frac{1}{n}\\sum\\limits_{i=1}^{n}X_i) = \\frac{1}{\\theta}$$\n",
    "$$\\frac{1}{n}\\sum\\limits_{i=1}^{n}E(X_i) = \\frac{1}{\\theta}$$\n",
    "$$\\frac{1}{n}\\sum\\limits_{i=1}^{n}\\frac{1}{\\theta} = \\frac{1}{\\theta}$$\n",
    "$$\\frac{1}{n}\\sum\\limits_{i=1}^{n}1 = \\frac{1}{\\theta}$$\n",
    "$$\\frac{1}{n}n = \\frac{1}{\\theta}$$\n",
    "$$1 = \\frac{1}{\\theta}$$\n",
    "$$\\theta = 1$$\n",
    "Therefore, $\\hat{g}(x)$ is an unbiased estimator of $g(\\theta)$, and we can say that it is an efficient estimator."
   ]
  },
  {
   "cell_type": "markdown",
   "id": "6af31935",
   "metadata": {},
   "source": [
    "*Exercise 3*\n",
    "\n",
    "1. Give the null hypothesis $H_0$ and the alternative hypothesis $H_1$ as subsets of Θ.\n",
    "\n",
    "Being $T(X) = \\sum_{i=1}^n Xi $ a scalar statistic, where $X_i$ is each sample:\n",
    "\n",
    "Since there is a total of 55 accidents, it is possible to conclude that affirming that the average cost of an accident is inferior to 1 billion dolars is the same as affirming that $T(X)$ is inferior than 55 billion dolars.\n",
    "\n",
    "Therefore, the hypotheses are:\n",
    "\n",
    "$$H_0: T(X)\\geq 55 \\cdot 10^9 dollars $$\n",
    "$$H_1: T(X)< 55 \\cdot 10^9 dollars $$"
   ]
  },
  {
   "cell_type": "markdown",
   "id": "aa7bc344",
   "metadata": {},
   "source": [
    "2. Using Neyman-Pearson’s approach, give a uniformly most powerful test at level α.\n",
    "\n",
    "\n",
    "\n",
    "Being $Z_{\\theta, \\theta'}(X)$ the likelihood ratio, we have:\n",
    "\n",
    "\n",
    "\n",
    "\n",
    "$$ Z_{\\theta, \\theta'} (X) = \\dfrac{\\theta'^n  e^{-\\theta' \\sum_{i=1}^n Xi}}{\\theta^n e^{-\\theta \\sum_{i=1}^n Xi}} \n",
    "= \\dfrac{\\theta'^n e^{-\\theta' T(X)}}{\\theta^n e^{-\\theta T(X)}}\n",
    "= \\left(\\dfrac{\\theta'}{\\theta}\\right)^n  e^{(\\theta - \\theta') T(X)}\n",
    "$$\n",
    "\n",
    "Therefore, $Z_{\\theta, \\theta'}$ is a strictly decreasing function of $T(X)$ $\\forall$ $\\theta, \\theta' | (\\theta' > 0  ,  \\theta>0)$,which verifies the MON condition explained in the section 5.5 of the poly.\n",
    "\n",
    "Using the theorem presented in the theorem 5.5.2 of the poly, it is possible to adapt the increasing function shown in the poly to the case of our monotonic decreasing function $Z_{\\theta, \\theta'}$. Therefore, we have:\n",
    "\n",
    "Being $\\theta_0 \\in \\Theta, \\alpha \\in (0,1)$ and $ c $ | $P_{\\theta_0} (T(X) < c) = \\alpha$\n",
    "\n",
    "This way, the hypothesis $H_0 = {\\theta \\geq \\theta_0}$ against the alternative $H_1 = {\\theta < \\theta_0}$ defined by:\n",
    "$$\n",
    "\\begin{equation*}\n",
    "    \\delta(x) = \\begin{cases}\n",
    "               1               & \\text{si } T(X) < c\\\\\n",
    "               0               & \\text{si } T(X) \\geq c\\\\\n",
    "           \\end{cases}\n",
    "\\end{equation*}\n",
    "$$\n",
    "Is uniformly most powerful at level $\\alpha$.\n",
    "\n",
    "That said, the sum of n independent exponential random variables identically distributed with parameter $\\lambda$ is a random variable with a Gamma distribution with parameters $k = n$ and $\\theta = \\lambda^{-1}$."
   ]
  },
  {
   "cell_type": "markdown",
   "id": "dc1a06ff",
   "metadata": {},
   "source": [
    "3. Apply the test at level α = 5%. Give the p-value and conclude."
   ]
  },
  {
   "cell_type": "code",
   "execution_count": 16,
   "id": "fb17da27",
   "metadata": {},
   "outputs": [
    {
     "name": "stdout",
     "output_type": "stream",
     "text": [
      "p-value: 0.013717486423264867\n"
     ]
    }
   ],
   "source": [
    "pvalue = stat.gamma.cdf(x=sum(y), a=len(y), scale=1000)\n",
    "print('p-value: ' + str(pvalue))"
   ]
  },
  {
   "cell_type": "markdown",
   "id": "c36c1526",
   "metadata": {},
   "source": [
    "Therefore, it is not possible to conclude that the average cost of an accidenthe is inferior to 1 billion dolars, since the samples can always have a mean distant from the distribution's mean, so $H_0$ can be rejected.\n",
    "\n",
    "If $H_0$ is not rejected, there is a chance equivalent to the p-value shown above to observe T(X) in question, so $H_0$ will be rejected, since $\\alpha$ is equal to 0.05."
   ]
  },
  {
   "cell_type": "markdown",
   "id": "35eabb81",
   "metadata": {},
   "source": [
    "4. For n = 55 samples and the parameter θ associated with an expected cost of one billion\n",
    "dollars, plot the probability density function of ĝ(X) and show the rejection region of\n",
    "$H_0$ at level α = 5%."
   ]
  },
  {
   "cell_type": "code",
   "execution_count": 32,
   "id": "6d77184a",
   "metadata": {},
   "outputs": [
    {
     "data": {
      "image/png": "[encoded data removed]",
      "text/plain": [
       "<Figure size 720x432 with 1 Axes>"
      ]
     },
     "metadata": {
      "needs_background": "light"
     },
     "output_type": "display_data"
    },
    {
     "name": "stdout",
     "output_type": "stream",
     "text": [
      "Rejection threshold: 43395.81385987552\n"
     ]
    }
   ],
   "source": [
    "x_alpha = stat.gamma.ppf(q=0.05, a=y.shape[0], scale=1000)\n",
    "ax_x = list(range(0, 100000))\n",
    "ax_x = [i for i in ax_x]\n",
    "ax_y = stat.gamma.pdf(x=ax_x, a=y.shape[0], scale=1000)\n",
    "\n",
    "plt.figure(figsize=(10,6))\n",
    "plt.plot(ax_x, ax_y, color='black', label='pdf ĝ(X)', linewidth=2, alpha=.8, linestyle='--')\n",
    "plt.axvspan(0, x_alpha, alpha=0.5, color='green')\n",
    "plt.legend()\n",
    "plt.show()\n",
    "print ('Rejection threshold: ' + str(x_alpha))"
   ]
  },
  {
   "cell_type": "markdown",
   "id": "35aefd0c",
   "metadata": {},
   "source": [
    "5. Plot the power of the test at level α with respect to θ for n = 10, 50, 100, 1000 samples.\n",
    "Explain the results."
   ]
  },
  {
   "cell_type": "code",
   "execution_count": 56,
   "id": "c85b1bee",
   "metadata": {},
   "outputs": [
    {
     "ename": "TypeError",
     "evalue": "'Text' object is not callable",
     "output_type": "error",
     "traceback": [
      "\u001b[0;31m---------------------------------------------------------------------------\u001b[0m",
      "\u001b[0;31mTypeError\u001b[0m                                 Traceback (most recent call last)",
      "\u001b[1;32m/home/luizf/Desktop/TP-MDI220/Project.ipynb Cell 25\u001b[0m in \u001b[0;36m<cell line: 5>\u001b[0;34m()\u001b[0m\n\u001b[1;32m      <a href='vscode-notebook-cell:/home/luizf/Desktop/TP-MDI220/Project.ipynb#X52sZmlsZQ%3D%3D?line=2'>3</a>\u001b[0m fig, ax \u001b[39m=\u001b[39m plt\u001b[39m.\u001b[39msubplots(\u001b[39m2\u001b[39m,\u001b[39m2\u001b[39m , figsize\u001b[39m=\u001b[39m(\u001b[39m10\u001b[39m, \u001b[39m10\u001b[39m))\n\u001b[1;32m      <a href='vscode-notebook-cell:/home/luizf/Desktop/TP-MDI220/Project.ipynb#X52sZmlsZQ%3D%3D?line=3'>4</a>\u001b[0m ax[\u001b[39m0\u001b[39m,\u001b[39m0\u001b[39m]\u001b[39m.\u001b[39mplot(thetas, stat\u001b[39m.\u001b[39mgamma\u001b[39m.\u001b[39mcdf(x\u001b[39m=\u001b[39mx_alpha, a\u001b[39m=\u001b[39m\u001b[39m10\u001b[39m, scale\u001b[39m=\u001b[39mthetas))\n\u001b[0;32m----> <a href='vscode-notebook-cell:/home/luizf/Desktop/TP-MDI220/Project.ipynb#X52sZmlsZQ%3D%3D?line=4'>5</a>\u001b[0m ax[\u001b[39m0\u001b[39;49m,\u001b[39m0\u001b[39;49m]\u001b[39m.\u001b[39;49mtitle (\u001b[39m'\u001b[39;49m\u001b[39mn = 10\u001b[39;49m\u001b[39m'\u001b[39;49m)\n\u001b[1;32m      <a href='vscode-notebook-cell:/home/luizf/Desktop/TP-MDI220/Project.ipynb#X52sZmlsZQ%3D%3D?line=5'>6</a>\u001b[0m ax[\u001b[39m0\u001b[39m,\u001b[39m1\u001b[39m]\u001b[39m.\u001b[39mplot(thetas, stat\u001b[39m.\u001b[39mgamma\u001b[39m.\u001b[39mcdf(x\u001b[39m=\u001b[39mx_alpha, a\u001b[39m=\u001b[39m\u001b[39m50\u001b[39m, scale\u001b[39m=\u001b[39mthetas))\n\u001b[1;32m      <a href='vscode-notebook-cell:/home/luizf/Desktop/TP-MDI220/Project.ipynb#X52sZmlsZQ%3D%3D?line=6'>7</a>\u001b[0m ax[\u001b[39m0\u001b[39m,\u001b[39m1\u001b[39m]\u001b[39m.\u001b[39mtitle (\u001b[39m'\u001b[39m\u001b[39mn = 50\u001b[39m\u001b[39m'\u001b[39m)\n",
      "\u001b[0;31mTypeError\u001b[0m: 'Text' object is not callable"
     ]
    },
    {
     "data": {
      "image/png": "[encoded data removed]",
      "text/plain": [
       "<Figure size 720x720 with 4 Axes>"
      ]
     },
     "metadata": {
      "needs_background": "light"
     },
     "output_type": "display_data"
    }
   ],
   "source": [
    "thetas = list(range(1, 2000, 10))\n",
    "n = [10, 50, 100, 100]\n",
    "fig, ax = plt.subplots(2,2 , figsize=(10, 10))\n",
    "ax[0,0].plot(thetas, stat.gamma.cdf(x=x_alpha, a=10, scale=thetas))\n",
    "ax[0,0].title ('n = 10')\n",
    "ax[0,1].plot(thetas, stat.gamma.cdf(x=x_alpha, a=50, scale=thetas))\n",
    "ax[0,1].title ('n = 50')\n",
    "ax[1,0].plot(thetas, stat.gamma.cdf(x=x_alpha, a=100, scale=thetas))\n",
    "ax[0,1].title ('n = ' +str(n))\n",
    "ax[1,1].plot(thetas, stat.gamma.cdf(x=x_alpha, a=1000, scale=thetas))\n",
    "ax[1,1].title ('n = ' +str(n))\n"
   ]
  },
  {
   "cell_type": "code",
   "execution_count": 13,
   "id": "0a2dc124",
   "metadata": {},
   "outputs": [
    {
     "data": {
      "text/plain": [
       "43395.81385987552"
      ]
     },
     "execution_count": 13,
     "metadata": {},
     "output_type": "execute_result"
    }
   ],
   "source": [
    "x_alpha"
   ]
  },
  {
   "cell_type": "code",
   "execution_count": null,
   "id": "8c5a538f",
   "metadata": {},
   "outputs": [],
   "source": [
    "import warnings\n",
    "from statsmodels.tools.sm_exceptions import ConvergenceWarning\n",
    "warnings.simplefilter('ignore', UserWarning)\n",
    "\n",
    "range_var = np.linspace(y.min(),y.max())\n",
    "plt.figure(figsize=(10,6))\n",
    "exp_y = lam* np.exp(-(lam*range_var)) #Get exponential distribution\n",
    "plt.plot(range_var,exp_y, color='black', label='Exponential Distribution', linewidth=2)\n",
    "\n",
    "#plot histogram and density of data\n",
    "sns.distplot(y, hist=True, kde=True,\n",
    "                bins=int(180/5), color = 'red',\n",
    "                hist_kws={'edgecolor':'black'},\n",
    "                kde_kws={'linewidth': 1.5}, label='Data')\n",
    "\n",
    "\n",
    "\n",
    "plt.title('Cost (millions 2013US$) distribution')\n",
    "plt.legend()\n",
    "plt.xlabel('Cost')\n",
    "plt.ylabel('distribution')\n",
    "#limit x axis from 0\n",
    "plt.xlim(-2000,6000)\n",
    "plt.show()\n"
   ]
  },
  {
   "cell_type": "code",
   "execution_count": 33,
   "id": "72fcb2e4",
   "metadata": {},
   "outputs": [
    {
     "ename": "AttributeError",
     "evalue": "'tuple' object has no attribute 'shape'",
     "output_type": "error",
     "traceback": [
      "\u001b[0;31m---------------------------------------------------------------------------\u001b[0m",
      "\u001b[0;31mAttributeError\u001b[0m                            Traceback (most recent call last)",
      "\u001b[1;32m/home/luizf/Desktop/TP-MDI220/Project.ipynb Cell 14\u001b[0m in \u001b[0;36m<cell line: 1>\u001b[0;34m()\u001b[0m\n\u001b[0;32m----> <a href='vscode-notebook-cell:/home/luizf/Desktop/TP-MDI220/Project.ipynb#X30sZmlsZQ%3D%3D?line=0'>1</a>\u001b[0m a\u001b[39m.\u001b[39;49mshape\n",
      "\u001b[0;31mAttributeError\u001b[0m: 'tuple' object has no attribute 'shape'"
     ]
    }
   ],
   "source": [
    "a.shape"
   ]
  },
  {
   "cell_type": "markdown",
   "id": "33446717",
   "metadata": {},
   "source": []
  },
  {
   "cell_type": "code",
   "execution_count": 5,
   "id": "f4639250-6871-46ed-b444-8f02abbef069",
   "metadata": {},
   "outputs": [],
   "source": [
    "from scipy import stats\n",
    "v = data['Cost (millions 2013US$)']\n",
    "x = stats.probplot(v)"
   ]
  },
  {
   "cell_type": "code",
   "execution_count": 8,
   "id": "da4133bd-5244-4359-a4f6-3b0efba120c7",
   "metadata": {},
   "outputs": [
    {
     "data": {
      "text/plain": [
       "array([(array([-1.9213301 , -1.50368257, -1.24941883, -1.0573306 , -0.897955  ,\n",
       "       -0.75865603, -0.63273432, -0.51614096, -0.40618759, -0.30094875,\n",
       "       -0.19894932, -0.09898372,  0.        ,  0.09898372,  0.19894932,\n",
       "        0.30094875,  0.40618759,  0.51614096,  0.63273432,  0.75865603,\n",
       "        0.897955  ,  1.0573306 ,  1.24941883,  1.50368257,  1.9213301 ]), array([0.00000e+00, 9.00000e+00, 3.00000e+01, 3.34000e+01, 4.28000e+01,\n",
       "       5.14000e+01, 5.50000e+01, 8.45000e+01, 8.70000e+01, 8.99000e+01,\n",
       "       9.80000e+01, 1.00000e+02, 1.00000e+02, 1.50000e+02, 1.80000e+02,\n",
       "       9.90000e+02, 1.30000e+03, 1.33000e+03, 1.73340e+03, 1.90000e+03,\n",
       "       2.50000e+03, 2.90000e+03, 4.40000e+03, 1.66089e+05, 2.59336e+05])),\n",
       "       (34710.126447473245, 17743.575999999994, 0.5515397358064319)],\n",
       "      dtype=object)"
      ]
     },
     "execution_count": 8,
     "metadata": {},
     "output_type": "execute_result"
    }
   ],
   "source": [
    "x = np.array(x)\n",
    "x"
   ]
  },
  {
   "cell_type": "code",
   "execution_count": 28,
   "id": "27359476-da0f-43bb-8dce-8e52d8b9a08f",
   "metadata": {},
   "outputs": [
    {
     "data": {
      "text/plain": [
       "[<matplotlib.lines.Line2D at 0x7f56be727df0>]"
      ]
     },
     "execution_count": 28,
     "metadata": {},
     "output_type": "execute_result"
    },
    {
     "data": {
      "image/png": "[encoded data removed]",
      "text/plain": [
       "<Figure size 432x288 with 1 Axes>"
      ]
     },
     "metadata": {
      "needs_background": "light"
     },
     "output_type": "display_data"
    }
   ],
   "source": [
    "plt.plot(x[0][0])"
   ]
  },
  {
   "cell_type": "code",
   "execution_count": null,
   "id": "eaf98a14-0dd3-46cc-b093-6b3de0b48874",
   "metadata": {},
   "outputs": [
    {
     "data": {
      "text/plain": [
       "[<matplotlib.lines.Line2D at 0x7f56be69b490>]"
      ]
     },
     "execution_count": 29,
     "metadata": {},
     "output_type": "execute_result"
    },
    {
     "data": {
      "image/png": "[encoded data removed]",
      "text/plain": [
       "<Figure size 432x288 with 1 Axes>"
      ]
     },
     "metadata": {
      "needs_background": "light"
     },
     "output_type": "display_data"
    }
   ],
   "source": [
    "plt.plot(x[1])"
   ]
  }
 ],
 "metadata": {
  "kernelspec": {
   "display_name": "Python 3.10.5 64-bit",
   "language": "python",
   "name": "python3"
  },
  "language_info": {
   "codemirror_mode": {
    "name": "ipython",
    "version": 3
   },
   "file_extension": ".py",
   "mimetype": "text/x-python",
   "name": "python",
   "nbconvert_exporter": "python",
   "pygments_lexer": "ipython3",
   "version": "3.10.7"
  },
  "vscode": {
   "interpreter": {
    "hash": "e7370f93d1d0cde622a1f8e1c04877d8463912d04d973331ad4851f04de6915a"
   }
  }
 },
 "nbformat": 4,
 "nbformat_minor": 5
}
