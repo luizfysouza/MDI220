{
 "cells": [
  {
   "cell_type": "markdown",
   "id": "f8c6d208",
   "metadata": {},
   "source": [
    "Project MDI220 - Luiz Augusto Facury de Souza"
   ]
  },
  {
   "cell_type": "code",
   "execution_count": null,
   "id": "5d1a9b31",
   "metadata": {},
   "outputs": [],
   "source": [
    "import pandas as pd\n",
    "import numpy as np\n",
    "import matplotlib.pyplot as plt\n",
    "import seaborn as sns\n",
    "import scipy.stats as stat"
   ]
  },
  {
   "cell_type": "markdown",
   "id": "31f4383d-a87c-4779-8494-832c7b324367",
   "metadata": {},
   "source": [
    "*Exercise 1:*\n",
    "1. Load data as a vector x = (x1, . . . , xn) of nuclear accident costs before the Three Mile Island accident and remove all missing values. You must get n = 55 observations."
   ]
  },
  {
   "cell_type": "code",
   "execution_count": 2,
   "id": "83bbe984-6101-453b-9548-50f9fee2d581",
   "metadata": {},
   "outputs": [
    {
     "name": "stdout",
     "output_type": "stream",
     "text": [
      "(55, 8)\n"
     ]
    },
    {
     "data": {
      "text/html": [
       "<div>\n",
       "<style scoped>\n",
       "    .dataframe tbody tr th:only-of-type {\n",
       "        vertical-align: middle;\n",
       "    }\n",
       "\n",
       "    .dataframe tbody tr th {\n",
       "        vertical-align: top;\n",
       "    }\n",
       "\n",
       "    .dataframe thead th {\n",
       "        text-align: right;\n",
       "    }\n",
       "</style>\n",
       "<table border=\"1\" class=\"dataframe\">\n",
       "  <thead>\n",
       "    <tr style=\"text-align: right;\">\n",
       "      <th></th>\n",
       "      <th>Date</th>\n",
       "      <th>Location</th>\n",
       "      <th>Cost (millions 2013US$)</th>\n",
       "      <th>INES</th>\n",
       "      <th>Smyth Magnitude</th>\n",
       "      <th>Region</th>\n",
       "      <th>Description</th>\n",
       "      <th>Fatalities</th>\n",
       "    </tr>\n",
       "  </thead>\n",
       "  <tbody>\n",
       "    <tr>\n",
       "      <th>4</th>\n",
       "      <td>1957-09-11</td>\n",
       "      <td>Rocky Flats, USA</td>\n",
       "      <td>8189.0</td>\n",
       "      <td>5.0</td>\n",
       "      <td>5.2</td>\n",
       "      <td>NaN</td>\n",
       "      <td>Fire starts and destroys plutonium processing ...</td>\n",
       "      <td>0</td>\n",
       "    </tr>\n",
       "    <tr>\n",
       "      <th>5</th>\n",
       "      <td>1955-03-25</td>\n",
       "      <td>Sellafield, UK</td>\n",
       "      <td>4400.0</td>\n",
       "      <td>4.0</td>\n",
       "      <td>4.3</td>\n",
       "      <td>WE</td>\n",
       "      <td>Fire releases up to up to a few tenths of a te...</td>\n",
       "      <td>0</td>\n",
       "    </tr>\n",
       "    <tr>\n",
       "      <th>6</th>\n",
       "      <td>1977-01-01</td>\n",
       "      <td>Beloyarsk, USSR</td>\n",
       "      <td>3500.0</td>\n",
       "      <td>5.0</td>\n",
       "      <td>NaN</td>\n",
       "      <td>EE</td>\n",
       "      <td>Unit 2 suffers a half core meltdown, repairs t...</td>\n",
       "      <td>0</td>\n",
       "    </tr>\n",
       "    <tr>\n",
       "      <th>7</th>\n",
       "      <td>1955-07-14</td>\n",
       "      <td>Sellafield, UK</td>\n",
       "      <td>2900.0</td>\n",
       "      <td>3.0</td>\n",
       "      <td>-2.4</td>\n",
       "      <td>WE</td>\n",
       "      <td>Another radioactive leak and remediation opera...</td>\n",
       "      <td>0</td>\n",
       "    </tr>\n",
       "    <tr>\n",
       "      <th>8</th>\n",
       "      <td>1969-10-12</td>\n",
       "      <td>Sellafield, UK</td>\n",
       "      <td>2500.0</td>\n",
       "      <td>4.0</td>\n",
       "      <td>2.3</td>\n",
       "      <td>WE</td>\n",
       "      <td>Enhanced discharge from the Building B204 stac...</td>\n",
       "      <td>0</td>\n",
       "    </tr>\n",
       "  </tbody>\n",
       "</table>\n",
       "</div>"
      ],
      "text/plain": [
       "        Date          Location  Cost (millions 2013US$)  INES  \\\n",
       "4 1957-09-11  Rocky Flats, USA                   8189.0   5.0   \n",
       "5 1955-03-25    Sellafield, UK                   4400.0   4.0   \n",
       "6 1977-01-01   Beloyarsk, USSR                   3500.0   5.0   \n",
       "7 1955-07-14    Sellafield, UK                   2900.0   3.0   \n",
       "8 1969-10-12    Sellafield, UK                   2500.0   4.0   \n",
       "\n",
       "   Smyth Magnitude Region                                        Description  \\\n",
       "4              5.2    NaN  Fire starts and destroys plutonium processing ...   \n",
       "5              4.3     WE  Fire releases up to up to a few tenths of a te...   \n",
       "6              NaN     EE  Unit 2 suffers a half core meltdown, repairs t...   \n",
       "7             -2.4     WE  Another radioactive leak and remediation opera...   \n",
       "8              2.3     WE  Enhanced discharge from the Building B204 stac...   \n",
       "\n",
       "   Fatalities  \n",
       "4           0  \n",
       "5           0  \n",
       "6           0  \n",
       "7           0  \n",
       "8           0  "
      ]
     },
     "execution_count": 2,
     "metadata": {},
     "output_type": "execute_result"
    }
   ],
   "source": [
    "data = pd.read_csv('data/C_id_35_NuclearPowerAccidents2016.csv', sep=',') #Get data\n",
    "data[\"Date\"] = pd.to_datetime(data[\"Date\"])\n",
    "data = data[data.Date<'1979-03-28']  #Get data before Three Mile Island accident\n",
    "data = data.loc[data['Cost (millions 2013US$)'].notnull()] #Remove null values\n",
    "print(data.shape)\n",
    "data.head()"
   ]
  },
  {
   "cell_type": "markdown",
   "id": "b15e21bb",
   "metadata": {},
   "source": [
    "2. Let F <sub>θ </sub> be the cumulative distribution function of a Gaussian distribution with mean µ\n",
    "and variance σ<sup>2</sup> , with θ = (µ, σ<sup>2</sup> ).\n",
    "\n",
    "(a) Show that the quantile function F<sub>θ</sub><sup>-1</sup> satisfies:\n",
    "$$\\forall p \\in (0,1), F_θ^{-1}(p) = σF_{(0,1)}^{-1}(p) + µ$$\n",
    "\n",
    "The quantile function is the inverse of the cumulative distribution function, so we will need the CDF of a normal distribution, given by:\n",
    "\n",
    "$$F_θ(x) = \\frac{1}{2} + [1 + erf(\\frac{(x - µ)}{σ \\sqrt(2)})]$$\n",
    "\n",
    "Where erf is the error function. \n",
    "\n",
    "\n",
    "Calculating the inverse of the CDF (Quantile), step by step, we get:\n",
    "\n",
    "$$F_θ^{-1}(p) = \\mu + \\sigma \\sqrt{2}erf^{-1}(2p-1)$$\n",
    "\n",
    "Therefore, we have:\n",
    "\n",
    "$$F^{-1}(p;0,1) = \\sqrt{2}erf^{-1}(2p-1)$$\n",
    "$$F^{-1}(p;\\mu,\\sigma^2) = \\mu + \\sqrt{\\sigma^2} F^{-1}(p;0,1) , \\forall p \\in (0,1)$$\n",
    "\n",
    "\n",
    "\n",
    "\n",
    "(b) Show the Q–Q plot of data for the Gaussian model using the probplot function of\n",
    "SciPy.\n"
   ]
  },
  {
   "cell_type": "code",
   "execution_count": 3,
   "id": "6d96020c-6813-4f9b-b144-ea88498749c1",
   "metadata": {},
   "outputs": [
    {
     "data": {
      "image/png": "[encoded data removed]",
      "text/plain": [
       "<Figure size 576x432 with 1 Axes>"
      ]
     },
     "metadata": {
      "needs_background": "light"
     },
     "output_type": "display_data"
    }
   ],
   "source": [
    "y = data['Cost (millions 2013US$)']  #Target variable\n",
    "norm = stat.norm.fit(y) #Fit normal distribution to target variable\n",
    "plt.figure(figsize=(8,6)) \n",
    "stat.probplot(y, dist=\"norm\", plot=plt, sparams=norm) #Plot Q-Q plot of target variable against normal distribution\n",
    "plt.show()"
   ]
  },
  {
   "cell_type": "markdown",
   "id": "18c48c33",
   "metadata": {},
   "source": [
    "3. Let  F <sub>θ </sub> be the cumulative distribution function of an exponential distribution with pa-\n",
    "rameter θ > 0.\n",
    "\n",
    "(a) Show that the quantile function F<sub>θ</sub><sup>-1</sup> satisfies:\n",
    "\n",
    "$$\\forall p \\in (0,1), F_θ^{-1}(p) = \\frac{1}{θ} F_1^{-1}(p)$$\n",
    "\n",
    "The CDF of an exponential distribution is given by:\n",
    "$$y = 1 - e^{-\\lambda x}$$\n",
    "\n",
    "Therefore, the inverse of the CDF (quantile) is given by:\n",
    "$$q = \\frac{-ln(1-x)}{\\lambda}$$\n",
    "\n",
    "Than, we have:\n",
    "\n",
    "$$F^{-1}(p;1) = -ln(1-x) $$\n",
    "$$F^{-1}(p;\\lambda) = \\frac{F^{-1}(p;1)}{\\lambda}, \\forall p \\in (0,1)  $$\n",
    "\n",
    "\n",
    "(b) Show the Q–Q plot of data for the exponential model."
   ]
  },
  {
   "cell_type": "code",
   "execution_count": 7,
   "id": "0d024d8f",
   "metadata": {},
   "outputs": [
    {
     "data": {
      "image/png": "[encoded data removed]",
      "text/plain": [
       "<Figure size 576x432 with 1 Axes>"
      ]
     },
     "metadata": {
      "needs_background": "light"
     },
     "output_type": "display_data"
    }
   ],
   "source": [
    "exp = stat.expon.fit(y) #Fit exponential distribution to target variable\n",
    "plt.figure(figsize=(8,6)) \n",
    "stat.probplot(y, dist=\"expon\", plot=plt, sparams=exp) #Plot Q-Q plot of target variable against exp distribution\n",
    "plt.show()"
   ]
  },
  {
   "cell_type": "markdown",
   "id": "2357cf80",
   "metadata": {},
   "source": [
    "4. The Q-Q plot tries to determine from which distribution the data came from. The plot is a scatter plot of the quantiles of the data against the quantiles of the candidate distribution. If the data did come from the distribution, the points should lie on a straight line, 45 degrees from the origin.\n",
    "Therefore, analysing the two plots, we can see that the data is more likely to come from an exponential distribution than an normal distribution, since the plot of the exponential distribution is much closer to the 45 degree line than the plot of the normal distribution, which is more spread out."
   ]
  },
  {
   "cell_type": "markdown",
   "id": "7e4ffc30",
   "metadata": {},
   "source": [
    "In the following, we use the exponential model for the cost of accidents before the\n",
    "Three Mile Island accident. Specifically, we assume that accident costs are i.i.d. samples of\n",
    "an exponential distribution with parameter θ > 0. Let Θ = (0, +∞) be the set of parameters.\n",
    "We denote by X = (X1 , . . . , Xn ) a random vector of n i.i.d. samples.\n",
    "\n",
    "*Exercise 2 (Point estimation):*\n",
    "\n",
    "We first focus on the estimation of θ or some functions of θ."
   ]
  },
  {
   "cell_type": "markdown",
   "id": "58bcff8c",
   "metadata": {},
   "source": [
    "1. Give the maximum likelihood estimator θ̂ of θ.\n",
    "\n",
    "The PDF of an exponential distribution is given by: \n",
    "$$y = \\lambda e^{-\\lambda x}$$\n",
    "Therefore, the likelihood function is given by:\n",
    "$$L(\\lambda) = \\prod_{i=1}^{n} \\lambda e^{-\\lambda x_i} = \\lambda^n e^{-\\lambda \\sum_{i=1}^{n} x_i}$$\n",
    "Taking the log of the likelihood function, we get:\n",
    "$$\\log L(\\lambda) = n \\log \\lambda - \\lambda \\sum_{i=1}^{n} x_i$$\n",
    "Taking the derivative of the log likelihood function with respect to $\\lambda$, we get:\n",
    "$$\\frac{\\partial \\log L(\\lambda)}{\\partial \\lambda} = \\frac{n}{\\lambda} - \\sum_{i=1}^{n} x_i = 0$$\n",
    "Therefore, the MLE is given by:\n",
    "$$\\hat{\\lambda} = \\frac{n}{\\sum_{i=1}^{n} x_i}$$\n",
    "That is, the inverse of the avarage. Given by the following code:"
   ]
  },
  {
   "cell_type": "code",
   "execution_count": 68,
   "id": "16fe2008",
   "metadata": {},
   "outputs": [
    {
     "name": "stdout",
     "output_type": "stream",
     "text": [
      "MLE of lambda: 0.0013767725947156965\n"
     ]
    }
   ],
   "source": [
    "lam = 1/y.mean() #Get lambda for exponential distribution\n",
    "print (\"MLE of lambda: \" + str(lam))"
   ]
  },
  {
   "cell_type": "markdown",
   "id": "0a5d5e6a",
   "metadata": {},
   "source": [
    "2. Show on the same plot the histogram of data in density and the probability densityfunction of the exponential distribution with parameter θ̂(x)."
   ]
  },
  {
   "cell_type": "code",
   "execution_count": 69,
   "id": "fd16ff21",
   "metadata": {},
   "outputs": [
    {
     "data": {
      "image/png": "[encoded data removed]",
      "text/plain": [
       "<Figure size 720x432 with 1 Axes>"
      ]
     },
     "metadata": {
      "needs_background": "light"
     },
     "output_type": "display_data"
    }
   ],
   "source": [
    "import warnings\n",
    "from statsmodels.tools.sm_exceptions import ConvergenceWarning\n",
    "warnings.simplefilter('ignore', UserWarning)\n",
    "\n",
    "range_var = np.linspace(y.min(),y.max())\n",
    "plt.figure(figsize=(10,6))\n",
    "exp_y = lam* np.exp(-(lam*range_var)) #Get exponential distribution\n",
    "plt.plot(range_var,exp_y, color='black', label='Exponential Distribution', linewidth=2)\n",
    "\n",
    "#plot histogram and density of data\n",
    "sns.distplot(y, hist=True, kde=True,\n",
    "                bins=int(180/5), color = 'red',\n",
    "                hist_kws={'edgecolor':'black'},\n",
    "                kde_kws={'linewidth': 1.5}, label='Data')\n",
    "\n",
    "\n",
    "\n",
    "plt.title('Cost (millions 2013US$) distribution')\n",
    "plt.legend()\n",
    "plt.xlabel('Cost')\n",
    "plt.ylabel('distribution')\n",
    "#limit x axis from 0\n",
    "plt.xlim(0,6000)\n",
    "plt.show()\n"
   ]
  },
  {
   "cell_type": "markdown",
   "id": "6650df5d",
   "metadata": {},
   "source": [
    "3. We seek to estimate the expected cost:\n",
    "$$g(θ) = \\frac{1}{\\theta}$$\n",
    "Let:\n",
    "$$\\hat{g}(x) = \\frac{1}{n}\\sum\\limits_{i=1}^{n}X_i$$\n",
    "Show that ĝ is an efficient estimator of g(θ).\n"
   ]
  },
  {
   "cell_type": "markdown",
   "id": "4d83a425",
   "metadata": {},
   "source": [
    "Since $\\mathbb{E}[T_1(X)] = \\dfrac{1}{n} \\sum_{i=1}^n \\mathbb{E}[X_i] = \\dfrac{1}{\\lambda} = \\mathbb{E}[g_1(\\lambda)]$, the estimator is unbiased.\n",
    "\n",
    "$$ \\mathbb{V}ar[T_1(X)] = \\dfrac{1}{n^2} \\sum_{i=1}^{n} \\mathbb{V}ar[X_i] =\\dfrac{n}{n^2\\lambda^2} = \\dfrac{1}{n\\lambda^2} $$\n",
    "\n",
    "The risk is, then, given by:\n",
    " $$R(T_1, \\lambda) = \\dfrac{1}{n\\lambda^2} $$\n",
    "\n",
    "The Cramer-Rao bound is given by:\n",
    "$$\\mathbb{V}ar[T_1(X)] = \\dfrac{(g_1'(\\lambda))^2}{nI_1(\\lambda)}$$\n",
    "Where $I_1$ is the Fisher information for one sample in the reguler model, given by:\n",
    "$$I_1(\\lambda) = \\mathbb{V}ar\\left[\\dfrac{\\partial log p(X_1, \\lambda)}{\\partial \\lambda} \\right] = \\mathbb{V}ar \\left[\\dfrac{1}{\\lambda} - X_1 \\right] = \\mathbb{V}ar[X_1] = \\dfrac{1}{\\lambda^2}  $$\n",
    "We know that $T_1(X)$ is an efficient estimator for $g_1(\\lambda)$ if it is unbiased and its variance respects the Cramer-Rao bound. Therefore, we have:\n",
    "\n",
    "$$ g_1(\\lambda) = \\dfrac{1}{\\lambda} $$ \n",
    "$$g_1'(\\lambda) = -\\dfrac{1}{\\lambda^2} \\implies (g_1'(\\lambda))^2 = \\dfrac{1}{\\lambda^4} $$\n",
    "\n",
    "$$\\dfrac{g_1'(\\lambda)^2}{nI_1(\\lambda)} = \\dfrac{1}{\\lambda^4} \\dfrac{\\lambda^2}{n} = \\dfrac{1}{n \\lambda^2} = \\mathbb{V}ar[T_1(X)]\n",
    "$$"
   ]
  },
  {
   "cell_type": "markdown",
   "id": "e617d7fb",
   "metadata": {},
   "source": [
    "4. Compute ĝ(x) from the available observations."
   ]
  },
  {
   "cell_type": "code",
   "execution_count": 78,
   "id": "e1f0c00e",
   "metadata": {},
   "outputs": [
    {
     "name": "stdout",
     "output_type": "stream",
     "text": [
      "ĝ(X) = 726.3363636363636\n"
     ]
    }
   ],
   "source": [
    "g = sum(y)/len(y)\n",
    "print ('ĝ(X) = ' + str(g))"
   ]
  },
  {
   "cell_type": "markdown",
   "id": "e8938ac2",
   "metadata": {},
   "source": [
    "5. For any η > 0, define the estimator\n",
    "$$ĝ_η = ηĝ$$\n",
    "Show that for some values of η (to be specified), the quadratic risks associated with the\n",
    "estimation of g(θ) satisfy R(θ, $ĝ_η$ ) < R(θ, ĝ) for all θ > 0. Discuss this result."
   ]
  },
  {
   "cell_type": "markdown",
   "id": "ba1e5394",
   "metadata": {},
   "source": [
    "Since:\n",
    "\n",
    "\n",
    "$$\\forall \\lambda > 0, n > 0$$\n",
    "\n",
    "$$R(\\lambda, T_{1, \\eta}) = (b(\\lambda, T_{1, \\eta}))^2 + \\mathbb{V}ar_{\\lambda}( T_{1, \\eta}(X))$$\n",
    "\n",
    "To calculate the bias, we have:\n",
    "$$\\mathbb{E}[ T_{1, \\eta}] = \\eta \\mathbb{E}[T_1(X)] = \\dfrac{\\eta}{\\lambda}$$\n",
    "\n",
    "Therefore:\n",
    "\n",
    "\n",
    "$$ (b(\\lambda, T_{1, \\eta}))^2 = \\left(\\dfrac{\\eta}{\\lambda} - \\dfrac{1}{\\lambda} \\right)^2 = \\dfrac{(\\eta - 1)^2}{\\lambda^2}$$\n",
    "\n",
    "For the variance, we have:\n",
    "\n",
    "\n",
    "$$\\mathbb{V}ar_{\\lambda}( T_{1, \\eta}(X)) = \\eta^2 * \\mathbb{V}ar[T_1(X)] = \\dfrac{\\eta^2}{n\\lambda^2}$$\n",
    "\n",
    "Finally, the risk is given by:\n",
    "$$\n",
    "R(\\lambda, T_{1, \\eta}) = (b(\\lambda,T_{1, \\eta}))^2 + \\mathbb{V}ar_{\\lambda}(T_{1, \\eta}(X)) = \\dfrac{\\eta^2}{n\\lambda^2} + \\dfrac{(n-1)^2}{\\lambda^2}\n",
    "$$\n",
    "\n",
    "$$R(\\lambda, T_{1, \\eta}) = \\dfrac{1}{\\lambda^2} \\left( \\left(1+\\dfrac{1}{n} \\right) \\eta^2 - 2\\eta + 1 \\right)$$\n",
    "\n",
    "\n",
    "Since the goal is to find $\\eta$ such that $\\forall \\lambda > 0, R(\\lambda, T_{1, \\eta}) < R(\\lambda, T_1)$, we have:\n",
    "\n",
    "$$R(\\lambda, T_{1, \\eta}) < \\dfrac{1}{\\lambda^2 n}$$\n",
    "\n"
   ]
  },
  {
   "cell_type": "markdown",
   "id": "80ebeabc",
   "metadata": {},
   "source": [
    "Since $\\lambda^2 > 0$, we have:\n",
    "$$\\left(1+\\dfrac{1}{n} \\right) \\eta^2 - 2\\eta + 1 - \\dfrac{1}{n} < 0$$\n",
    "\n",
    "Solving the inequation:\n",
    "\n",
    "$$\\Delta = 2² - 4\\left(1 + \\dfrac{1}{n} \\right) \\left(1 - \\dfrac{1}{n} \\right) = 4\\dfrac{1}{n^2} = \\dfrac{4}{n^2}$$\n",
    "\n",
    "$$\\eta = \\dfrac{2 \\pm 2/n}{2+2/n} $$\n",
    "\n",
    "\n",
    "$$\n",
    "\\eta_1 = \\dfrac{2 - 2/n}{2+2/n} = \\dfrac{n - 1}{n + 1}, \\eta_2 = \\dfrac{2 + 2/n}{2+2/n} = 1\n",
    "$$\n",
    "\n",
    "\n",
    "Since $ \\left(1 + \\dfrac{1}{n}\\right) > 0$, we have:\n",
    "\n",
    "$$ \\dfrac{n - 1}{n + 1} < \\eta < 1 \\iff  R(\\lambda, T_{1, \\eta}) < R(\\lambda, T_1)$$\n",
    "\n",
    "Since an effective estimator must be U.V.M.B (Uniformément de Variance Minimale dans la classe des estimateur sans Biais) according to corollary 3.2.7 of the poly. Therefore, although $ \\forall \\lambda > 0, R(\\lambda, T_{1, \\eta}) < R(\\lambda, T_1)$ is valid for some values of $\\eta$, we have:\n",
    "$$  T_{1, \\eta} \\notin \\Gamma$$ \n",
    "Since \n",
    "$$ b(\\lambda, \\widetilde T_{1, \\eta}) \\neq 0, \\forall \\eta \\neq 1$$\n",
    "For $\\eta = 1$, we have:\n",
    "$$ \\widetilde T_{1, \\eta} = T_1$$\n",
    "$$R(\\lambda,  T_{1, \\eta}) = R(\\lambda, T_1)$$\n",
    "\n",
    "Therefore, the proposition is coherent."
   ]
  },
  {
   "cell_type": "markdown",
   "id": "5d481aea",
   "metadata": {},
   "source": [
    "6. Give η so that $ĝ_η$ is an unbiased estimator of the median cost. Compute $ĝ_η$ (x) from the\n",
    "available observations. Compare with the empirical median."
   ]
  },
  {
   "cell_type": "markdown",
   "id": "a019cfbc",
   "metadata": {},
   "source": [
    "We have:\n",
    "$$\\mathbb{P}_\\lambda (X_1 > m) = 0.5$$\n",
    "Where m is the median.\n",
    "Therefore:\n",
    "\n",
    "$$e^{-\\lambda m} = 0.5$$\n",
    "\n",
    "$$log(0.5) = -\\lambda m$$\n",
    "\n",
    "$$m = \\dfrac{-log(0.5)}{\\lambda} = \\dfrac{log(2)}{\\lambda}$$\n",
    "\n",
    "Our goal is to etimate $g_2(\\lambda) = \\dfrac{log(2)}{\\lambda}$ = m with the estimator $ T_{1, \\eta}$ such that $ b(\\lambda, T_{1, \\eta}) = 0$. Therefore:\n",
    "\n",
    "$$ b(\\lambda,  T_{1, \\eta}) = \\mathbb{E}[ T_{1, \\eta}] - \\dfrac{log(2)}{\\lambda} = 0$$\n",
    "\n",
    "$$ \\mathbb{E}[ T_{1, \\eta}] = \\dfrac{log(2)}{\\lambda} $$\n",
    "\n",
    "$$\\dfrac{\\eta}{\\lambda} = \\dfrac{log(2)}{\\lambda} $$\n",
    "\n",
    "$$ \\eta = log(2) $$\n"
   ]
  },
  {
   "cell_type": "code",
   "execution_count": 97,
   "id": "77b557a3",
   "metadata": {},
   "outputs": [
    {
     "name": "stdout",
     "output_type": "stream",
     "text": [
      "Estimateur de la médiane = 503.45800259270857\n",
      "Médiane empirique = 89.9\n"
     ]
    }
   ],
   "source": [
    "print('Estimateur de la médiane = ' + str(np.log(2)*g))\n",
    "print('Médiane empirique = ' + str(y.median()))"
   ]
  },
  {
   "cell_type": "markdown",
   "id": "f4ca14f5",
   "metadata": {},
   "source": [
    "7. For the previous value of η, compare the quadratic risks of ĝ and $ĝ_η$ , both viewed as\n",
    "estimators of g(θ), depending on the number of samples n."
   ]
  },
  {
   "cell_type": "markdown",
   "id": "2963c1fc",
   "metadata": {},
   "source": [
    "$$ R(\\lambda, T_1) = \\dfrac{1}{\\lambda^2 n}$$\n",
    "\n",
    "$$ R(\\lambda, T_{1, \\eta})  =\\dfrac{1}{\\lambda^2}\\left( \\left(1 + \\dfrac{1}{n} \\right) log^2(2) - 2log(2) + 1 \\right) $$\n",
    "\n",
    "Therefore, for small values of n, $ R(\\lambda,  T_{1, log(2)}) < R(\\lambda, T_1) $, since until n = 5, we have:\n",
    "$$\\dfrac{n - 1}{n + 1} < \\eta = log(2) < 1 $$\n",
    "\n",
    "However, for bigger values of n, $ R(\\lambda, T_1) $ tend vers 0 et $ R(\\lambda, T_{1, \\eta})$ tends to:\n",
    "$$ \\dfrac{1}{\\lambda^2}\\left(log^2(2) - 2log(2) + 1 \\right) \\approx \\dfrac{0.094158653}{\\lambda^2} $$"
   ]
  },
  {
   "cell_type": "markdown",
   "id": "6af31935",
   "metadata": {},
   "source": [
    "*Exercise 3*\n",
    "\n",
    "1. Give the null hypothesis $H_0$ and the alternative hypothesis $H_1$ as subsets of Θ.\n",
    "\n",
    "Being $T(X) = \\sum_{i=1}^n Xi $ a scalar statistic, where $X_i$ is each sample:\n",
    "\n",
    "Since there is a total of 55 accidents, it is possible to conclude that affirming that the average cost of an accident is inferior to 1 billion dolars is the same as affirming that $T(X)$ is inferior than 55 billion dolars.\n",
    "\n",
    "Therefore, the hypotheses are:\n",
    "\n",
    "$$H_0: T(X)\\geq 55 \\cdot 10^9 dollars $$\n",
    "$$H_1: T(X)< 55 \\cdot 10^9 dollars $$"
   ]
  },
  {
   "cell_type": "markdown",
   "id": "aa7bc344",
   "metadata": {},
   "source": [
    "2. Using Neyman-Pearson’s approach, give a uniformly most powerful test at level α.\n",
    "\n",
    "\n",
    "\n",
    "Being $Z_{\\theta, \\theta'}(X)$ the likelihood ratio, we have:\n",
    "\n",
    "\n",
    "\n",
    "\n",
    "$$ Z_{\\theta, \\theta'} (X) = \\dfrac{\\theta'^n  e^{-\\theta' \\sum_{i=1}^n Xi}}{\\theta^n e^{-\\theta \\sum_{i=1}^n Xi}} \n",
    "= \\dfrac{\\theta'^n e^{-\\theta' T(X)}}{\\theta^n e^{-\\theta T(X)}}\n",
    "= \\left(\\dfrac{\\theta'}{\\theta}\\right)^n  e^{(\\theta - \\theta') T(X)}\n",
    "$$\n",
    "\n",
    "Therefore, $Z_{\\theta, \\theta'}$ is a strictly decreasing function of $T(X)$ $\\forall$ $\\theta, \\theta' | (\\theta' > 0  ,  \\theta>0)$,which verifies the MON condition explained in the section 5.5 of the poly.\n",
    "\n",
    "Using the theorem presented in the theorem 5.5.2 of the poly, it is possible to adapt the increasing function shown in the poly to the case of our monotonic decreasing function $Z_{\\theta, \\theta'}$. Therefore, we have:\n",
    "\n",
    "Being $\\theta_0 \\in \\Theta, \\alpha \\in (0,1)$ and $ c $ | $P_{\\theta_0} (T(X) < c) = \\alpha$\n",
    "\n",
    "This way, the hypothesis $H_0 = {\\theta \\geq \\theta_0}$ against the alternative $H_1 = {\\theta < \\theta_0}$ defined by:\n",
    "$$\n",
    "\\begin{equation*}\n",
    "    \\delta(x) = \\begin{cases}\n",
    "               1               & \\text{si } T(X) < c\\\\\n",
    "               0               & \\text{si } T(X) \\geq c\\\\\n",
    "           \\end{cases}\n",
    "\\end{equation*}\n",
    "$$\n",
    "Is uniformly most powerful at level $\\alpha$.\n",
    "\n",
    "That said, the sum of n independent exponential random variables identically distributed with parameter $\\lambda$ is a random variable with a Gamma distribution with parameters $k = n$ and $\\theta = \\lambda^{-1}$."
   ]
  },
  {
   "cell_type": "markdown",
   "id": "dc1a06ff",
   "metadata": {},
   "source": [
    "3. Apply the test at level α = 5%. Give the p-value and conclude."
   ]
  },
  {
   "cell_type": "code",
   "execution_count": 16,
   "id": "fb17da27",
   "metadata": {},
   "outputs": [
    {
     "name": "stdout",
     "output_type": "stream",
     "text": [
      "p-value: 0.013717486423264867\n"
     ]
    }
   ],
   "source": [
    "pvalue = stat.gamma.cdf(x=sum(y), a=len(y), scale=1000)\n",
    "print('p-value: ' + str(pvalue))"
   ]
  },
  {
   "cell_type": "markdown",
   "id": "c36c1526",
   "metadata": {},
   "source": [
    "Therefore, it is not possible to conclude that the average cost of an accidenthe is inferior to 1 billion dolars, since the samples can always have a mean distant from the distribution's mean, so $H_0$ can be rejected.\n",
    "\n",
    "If $H_0$ is not rejected, there is a chance equivalent to the p-value shown above to observe T(X) in question, so $H_0$ will be rejected, since $\\alpha$ is equal to 0.05."
   ]
  },
  {
   "cell_type": "markdown",
   "id": "35eabb81",
   "metadata": {},
   "source": [
    "4. For n = 55 samples and the parameter θ associated with an expected cost of one billion\n",
    "dollars, plot the probability density function of ĝ(X) and show the rejection region of\n",
    "$H_0$ at level α = 5%."
   ]
  },
  {
   "cell_type": "code",
   "execution_count": 32,
   "id": "6d77184a",
   "metadata": {},
   "outputs": [
    {
     "data": {
      "image/png": "[encoded data removed]",
      "text/plain": [
       "<Figure size 720x432 with 1 Axes>"
      ]
     },
     "metadata": {
      "needs_background": "light"
     },
     "output_type": "display_data"
    },
    {
     "name": "stdout",
     "output_type": "stream",
     "text": [
      "Rejection threshold: 43395.81385987552\n"
     ]
    }
   ],
   "source": [
    "x_alpha = stat.gamma.ppf(q=0.05, a=y.shape[0], scale=1000)\n",
    "ax_x = list(range(0, 100000))\n",
    "ax_x = [i for i in ax_x]\n",
    "ax_y = stat.gamma.pdf(x=ax_x, a=y.shape[0], scale=1000)\n",
    "\n",
    "plt.figure(figsize=(10,6))\n",
    "plt.plot(ax_x, ax_y, color='black', label='pdf ĝ(X)', linewidth=2, alpha=.8, linestyle='--')\n",
    "plt.axvspan(0, x_alpha, alpha=0.5, color='green')\n",
    "plt.legend()\n",
    "plt.show()\n",
    "print ('Rejection threshold: ' + str(x_alpha))"
   ]
  },
  {
   "cell_type": "markdown",
   "id": "35aefd0c",
   "metadata": {},
   "source": [
    "5. Plot the power of the test at level α with respect to θ for n = 10, 50, 100, 1000 samples.\n",
    "Explain the results."
   ]
  },
  {
   "cell_type": "code",
   "execution_count": 65,
   "id": "c85b1bee",
   "metadata": {},
   "outputs": [
    {
     "data": {
      "image/png": "[encoded data removed]",
      "text/plain": [
       "<Figure size 864x864 with 4 Axes>"
      ]
     },
     "metadata": {
      "needs_background": "light"
     },
     "output_type": "display_data"
    }
   ],
   "source": [
    "thetas = list(range(1, 2000, 10))\n",
    "n = [10, 50, 100, 100]\n",
    "fig, ax = plt.subplots(2,2 , figsize=(12, 12))\n",
    "ax[0,0].plot(thetas, stat.gamma.cdf(x=x_alpha, a=10, scale=thetas))\n",
    "ax[0,0].set_title('n = 10')\n",
    "ax[0,1].plot(thetas, stat.gamma.cdf(x=x_alpha, a=50, scale=thetas))\n",
    "ax[0,1].set_title('n = 50')\n",
    "ax[1,0].plot(thetas, stat.gamma.cdf(x=x_alpha, a=100, scale=thetas))\n",
    "ax[1,0].set_title ('n = 100')\n",
    "ax[1,1].plot(thetas, stat.gamma.cdf(x=x_alpha, a=1000, scale=thetas))\n",
    "ax[1,1].set_title ('n = 1000')\n",
    "plt.show()"
   ]
  },
  {
   "cell_type": "markdown",
   "id": "7a9d0970",
   "metadata": {},
   "source": [
    "6. Propose a new test using the approximation of ĝ(X) suggested by the Central Limit\n",
    "Theorem and give the result of this test."
   ]
  },
  {
   "cell_type": "markdown",
   "id": "9feaf105",
   "metadata": {},
   "source": [
    "Being\n",
    "\n",
    "$ \\mu = $ 1 billion dolars, $ \\sigma$ = standard deviation of $T_1$ for the samples\n",
    "\n",
    "$ T_1$ ~ $N(\\mu, \\frac{\\sigma}{\\sqrt{n}}) $\n",
    "\n",
    "We have:\n",
    "\n",
    "$$ \\mathbb{P} (T_1 < T_1(X)) = \\mathbb{P} \\left(\\dfrac{T_1 - \\mu}{\\sigma / \\sqrt(n)} < \\dfrac{T_1(X) - \\mu}{\\sigma / \\sqrt(n)}  \\right) \\approx \\mathbb{P} \\left( N(0, 1) < \\dfrac{T_1(X) - \\mu}{\\sigma / \\sqrt(n)}  \\right)  $$"
   ]
  },
  {
   "cell_type": "code",
   "execution_count": 109,
   "id": "6ea35eb7",
   "metadata": {},
   "outputs": [
    {
     "name": "stdout",
     "output_type": "stream",
     "text": [
      "0.07442891171163017\n"
     ]
    }
   ],
   "source": [
    "sigma = np.std(y, ddof=1)\n",
    "\n",
    "sigma_n= (g - 1000)/ (sigma/len(y)**(1/2))\n",
    "\n",
    "print(stat.norm.cdf(sigma_n))\n"
   ]
  },
  {
   "cell_type": "markdown",
   "id": "52703ae7",
   "metadata": {},
   "source": [
    "$ \\mathbb{P} \\left( N(0, 1) < \\dfrac{T_1(X) - \\mu}{\\frac{\\sigma}{\\sqrt(n)}}  \\right) = 0.07442891171163 > \\alpha = 0.05 $\n",
    "\n",
    "Therefore, it is not possible to reject $H_0$ this way, since it is now higher than $\\alpha$"
   ]
  }
 ],
 "metadata": {
  "kernelspec": {
   "display_name": "Python 3.10.5 64-bit",
   "language": "python",
   "name": "python3"
  },
  "language_info": {
   "codemirror_mode": {
    "name": "ipython",
    "version": 3
   },
   "file_extension": ".py",
   "mimetype": "text/x-python",
   "name": "python",
   "nbconvert_exporter": "python",
   "pygments_lexer": "ipython3",
   "version": "3.10.7"
  },
  "vscode": {
   "interpreter": {
    "hash": "e7370f93d1d0cde622a1f8e1c04877d8463912d04d973331ad4851f04de6915a"
   }
  }
 },
 "nbformat": 4,
 "nbformat_minor": 5
}
